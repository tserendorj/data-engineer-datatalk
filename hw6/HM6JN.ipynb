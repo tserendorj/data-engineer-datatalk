{
 "cells": [
  {
   "cell_type": "code",
   "execution_count": 1,
   "id": "59e304fe-2b25-4723-aa42-8500c3f834b8",
   "metadata": {},
   "outputs": [
    {
     "data": {
      "text/plain": [
       "True"
      ]
     },
     "execution_count": 1,
     "metadata": {},
     "output_type": "execute_result"
    }
   ],
   "source": [
    "import json\n",
    "import time \n",
    "\n",
    "from kafka import KafkaProducer\n",
    "\n",
    "def json_serializer(data):\n",
    "    return json.dumps(data).encode('utf-8')\n",
    "\n",
    "server = 'localhost:9092'\n",
    "\n",
    "producer = KafkaProducer(\n",
    "    bootstrap_servers=[server],\n",
    "    value_serializer=json_serializer\n",
    ")\n",
    "\n",
    "producer.bootstrap_connected()"
   ]
  },
  {
   "cell_type": "code",
   "execution_count": 2,
   "id": "de679351-6caf-4b41-8553-1c93122e5444",
   "metadata": {},
   "outputs": [],
   "source": [
    "import csv\n",
    "import json\n",
    "from kafka import KafkaProducer\n",
    "\n",
    "\n",
    "def main():\n",
    "    # Create a Kafka producer\n",
    "    producer = KafkaProducer(\n",
    "        bootstrap_servers=\"localhost:9092\",\n",
    "        value_serializer=lambda v: json.dumps(v).encode(\"utf-8\"),\n",
    "    )\n",
    "\n",
    "    csv_file = (\n",
    "        \"data/green_tripdata_2019-10.csv\"  # change to your CSV file path if needed\n",
    "    )\n",
    "\n",
    "    with open(csv_file, \"r\", newline=\"\", encoding=\"utf-8\") as file:\n",
    "        reader = csv.DictReader(file)\n",
    "\n",
    "        for row in reader:\n",
    "            # Each row will be a dictionary keyed by the CSV headers\n",
    "            # Send data to Kafka topic \"green-data\"\n",
    "            producer.send(\"green-data\", value=row)\n",
    "\n",
    "    # Make sure any remaining messages are delivered\n",
    "    producer.flush()\n",
    "    producer.close()\n",
    "\n",
    "\n",
    "if __name__ == \"__main__\":\n",
    "    main()\n"
   ]
  },
  {
   "cell_type": "code",
   "execution_count": 3,
   "id": "4942ac10-dc57-4449-80bf-7c067e2217a8",
   "metadata": {},
   "outputs": [
    {
     "name": "stdout",
     "output_type": "stream",
     "text": [
      "succefully read\n",
      "-----------------\n",
      "22.634939908981323\n",
      "=================\n"
     ]
    }
   ],
   "source": [
    "import csv\n",
    "import json\n",
    "from kafka import KafkaProducer\n",
    "from time import time\n",
    "\n",
    "\n",
    "def main():\n",
    "    # Create a Kafka producer\n",
    "    producer = KafkaProducer(\n",
    "        bootstrap_servers=\"localhost:9092\",\n",
    "        value_serializer=lambda v: json.dumps(v).encode(\"utf-8\"),\n",
    "    )\n",
    "\n",
    "    csv_file = (\n",
    "        \"data/green_tripdata_2019-10.csv\"  # change to your CSV file path if needed\n",
    "    )\n",
    "\n",
    "    with open(csv_file, \"r\", newline=\"\", encoding=\"utf-8\") as file:\n",
    "        reader = csv.DictReader(\n",
    "            file,\n",
    "            fieldnames=[\n",
    "                \"lpep_pickup_datetime\",\n",
    "                \"lpep_dropoff_datetime\",\n",
    "                \"PULocationID\",\n",
    "                \"DOLocationID\",\n",
    "                \"passenger_count\",\n",
    "                \"trip_distance\",\n",
    "                \"tip_amount\",\n",
    "            ],\n",
    "        )\n",
    "\n",
    "        print(\"succefully read\")\n",
    "        \n",
    "        for row in reader:\n",
    "            # Each row will be a dictionary keyed by the CSV headers\n",
    "            # Send data to Kafka topic \"green-data\"\n",
    "            producer.send(\"green_trips\", value=row)\n",
    "\n",
    "    # Make sure any remaining messages are delivered\n",
    "    producer.flush()\n",
    "    producer.close()\n",
    "\n",
    "\n",
    "\n",
    "t0 = time()\n",
    "main()\n",
    "t1 = time()\n",
    "took = t1 - t0\n",
    "print(\"-----------------\")\n",
    "print(took)\n",
    "print(\"=================\")\n"
   ]
  },
  {
   "cell_type": "code",
   "execution_count": null,
   "id": "22dccb21-4726-4d4e-8db2-10014680dcd5",
   "metadata": {},
   "outputs": [],
   "source": []
  }
 ],
 "metadata": {
  "kernelspec": {
   "display_name": "Python 3 (ipykernel)",
   "language": "python",
   "name": "python3"
  },
  "language_info": {
   "codemirror_mode": {
    "name": "ipython",
    "version": 3
   },
   "file_extension": ".py",
   "mimetype": "text/x-python",
   "name": "python",
   "nbconvert_exporter": "python",
   "pygments_lexer": "ipython3",
   "version": "3.11.4"
  }
 },
 "nbformat": 4,
 "nbformat_minor": 5
}
