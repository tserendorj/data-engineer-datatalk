{
 "cells": [
  {
   "cell_type": "code",
   "execution_count": 1,
   "id": "8d7599a0-971d-4c5c-b675-55fee4d4889f",
   "metadata": {},
   "outputs": [],
   "source": [
    "import pyspark\n",
    "from pyspark.sql import SparkSession"
   ]
  },
  {
   "cell_type": "code",
   "execution_count": 2,
   "id": "00c8fe8d-d2c5-4024-a05d-fcc953a98707",
   "metadata": {},
   "outputs": [],
   "source": [
    "from pyspark.sql import types"
   ]
  },
  {
   "cell_type": "code",
   "execution_count": 3,
   "id": "23a92b8a-ad1f-49c8-8bcc-b9a36c8b9a4c",
   "metadata": {},
   "outputs": [
    {
     "name": "stderr",
     "output_type": "stream",
     "text": [
      "Setting default log level to \"WARN\".\n",
      "To adjust logging level use sc.setLogLevel(newLevel). For SparkR, use setLogLevel(newLevel).\n"
     ]
    },
    {
     "name": "stdout",
     "output_type": "stream",
     "text": [
      "25/03/06 15:10:28 WARN NativeCodeLoader: Unable to load native-hadoop library for your platform... using builtin-java classes where applicable\n"
     ]
    }
   ],
   "source": [
    "spark = SparkSession.builder \\\n",
    "        .master(\"local[*]\") \\\n",
    "        .appName(\"homework\") \\\n",
    "        .getOrCreate()"
   ]
  },
  {
   "cell_type": "markdown",
   "id": "8e7a69fb-dba0-4c13-a0ba-fa43f0ce2bf6",
   "metadata": {},
   "source": [
    "## Q1"
   ]
  },
  {
   "cell_type": "code",
   "execution_count": 3,
   "id": "2bfda9bd-fea8-4249-afb5-744c0151c801",
   "metadata": {},
   "outputs": [
    {
     "data": {
      "text/plain": [
       "'3.3.2'"
      ]
     },
     "execution_count": 3,
     "metadata": {},
     "output_type": "execute_result"
    }
   ],
   "source": [
    "pyspark.__version__"
   ]
  },
  {
   "cell_type": "code",
   "execution_count": 4,
   "id": "dfeec70e-70a7-4f01-b3e5-f67e77f5c5cf",
   "metadata": {},
   "outputs": [
    {
     "name": "stdout",
     "output_type": "stream",
     "text": [
      "--2025-03-06 14:18:06--  https://d37ci6vzurychx.cloudfront.net/trip-data/yellow_tripdata_2024-10.parquet\n",
      "Resolving d37ci6vzurychx.cloudfront.net (d37ci6vzurychx.cloudfront.net)... 108.138.245.58, 108.138.245.96, 108.138.245.225, ...\n",
      "Connecting to d37ci6vzurychx.cloudfront.net (d37ci6vzurychx.cloudfront.net)|108.138.245.58|:443... connected.\n",
      "HTTP request sent, awaiting response... 200 OK\n",
      "Length: 64346071 (61M) [binary/octet-stream]\n",
      "Saving to: ‘yellow_tripdata_2024-10.parquet’\n",
      "\n",
      "yellow_tripdata_202 100%[===================>]  61.36M  21.5MB/s    in 2.9s    \n",
      "\n",
      "2025-03-06 14:18:09 (21.5 MB/s) - ‘yellow_tripdata_2024-10.parquet’ saved [64346071/64346071]\n",
      "\n"
     ]
    }
   ],
   "source": [
    "!wget https://d37ci6vzurychx.cloudfront.net/trip-data/yellow_tripdata_2024-10.parquet"
   ]
  },
  {
   "cell_type": "code",
   "execution_count": 4,
   "id": "feb8d97a-02cf-4994-8f4b-8769977e9ee1",
   "metadata": {},
   "outputs": [],
   "source": [
    "year=2024\n",
    "month=10\n",
    "input_path = f'yellow_tripdata_2024-10.parquet'"
   ]
  },
  {
   "cell_type": "code",
   "execution_count": 6,
   "id": "adf1ff3d-1a9b-49e2-b9b7-78b3cdf4bc98",
   "metadata": {},
   "outputs": [
    {
     "name": "stderr",
     "output_type": "stream",
     "text": [
      "                                                                                \r"
     ]
    }
   ],
   "source": [
    "output_path = f'data/pq/yellow/{year}/{month:02d}/'\n",
    "df_yellow = spark.read \\\n",
    "        .option(\"header\", \"true\") \\\n",
    "        .parquet(input_path)\n",
    "\n",
    "df_yellow.repartition(4).write.parquet(output_path, mode='overwrite')"
   ]
  },
  {
   "cell_type": "markdown",
   "id": "f7c7e21b-f8b4-4dac-aeca-907f85474e10",
   "metadata": {},
   "source": [
    "## Q2"
   ]
  },
  {
   "cell_type": "code",
   "execution_count": 11,
   "id": "182a25e2-9a2a-46fb-984a-c62bcdad6c25",
   "metadata": {},
   "outputs": [
    {
     "name": "stdout",
     "output_type": "stream",
     "text": [
      "total 97M\n",
      "-rw-r--r-- 1 tsedo tsedo   0 Mar  6 14:23 _SUCCESS\n",
      "-rw-r--r-- 1 tsedo tsedo 25M Mar  6 14:23 part-00000-abb9be01-b172-4e0d-9c22-71b114f04d54-c000.snappy.parquet\n",
      "-rw-r--r-- 1 tsedo tsedo 25M Mar  6 14:23 part-00001-abb9be01-b172-4e0d-9c22-71b114f04d54-c000.snappy.parquet\n",
      "-rw-r--r-- 1 tsedo tsedo 25M Mar  6 14:23 part-00002-abb9be01-b172-4e0d-9c22-71b114f04d54-c000.snappy.parquet\n",
      "-rw-r--r-- 1 tsedo tsedo 25M Mar  6 14:23 part-00003-abb9be01-b172-4e0d-9c22-71b114f04d54-c000.snappy.parquet\n"
     ]
    }
   ],
   "source": [
    "!ls -lh /home/tsedo/notebooks/data/pq/yellow/2024/10"
   ]
  },
  {
   "cell_type": "markdown",
   "id": "2bd66c94-bc80-46c9-89c1-9b419b3493a1",
   "metadata": {},
   "source": [
    "## Q3"
   ]
  },
  {
   "cell_type": "code",
   "execution_count": null,
   "id": "e4fe507b-10b1-4085-8d4e-50d5b1da57da",
   "metadata": {},
   "outputs": [],
   "source": [
    "df_yellow.registerTempTable('yellow_data')"
   ]
  },
  {
   "cell_type": "code",
   "execution_count": 23,
   "id": "c5e2798a-ebe4-4205-80bc-8bc387a62b4f",
   "metadata": {},
   "outputs": [
    {
     "name": "stdout",
     "output_type": "stream",
     "text": [
      "+--------+\n",
      "|count(1)|\n",
      "+--------+\n",
      "|  128811|\n",
      "+--------+\n",
      "\n"
     ]
    }
   ],
   "source": [
    "spark.sql(\"\"\"\n",
    "SELECT count(1)\n",
    "    FROM yellow_data \n",
    "    where day(tpep_dropoff_datetime) = 15\n",
    "    \n",
    "\"\"\").show()"
   ]
  },
  {
   "cell_type": "markdown",
   "id": "048aafa2-2a4f-4fe4-b226-a05f90c5783b",
   "metadata": {},
   "source": [
    "## Q4"
   ]
  },
  {
   "cell_type": "code",
   "execution_count": 36,
   "id": "150dab9d-fc4c-44b7-a1c3-560025549099",
   "metadata": {},
   "outputs": [
    {
     "name": "stdout",
     "output_type": "stream",
     "text": [
      "+------------------+\n",
      "|         max_hours|\n",
      "+------------------+\n",
      "|162.61777777777777|\n",
      "+------------------+\n",
      "\n"
     ]
    }
   ],
   "source": [
    "spark.sql(\"\"\"\n",
    "    SELECT MAX(UNIX_TIMESTAMP(tpep_dropoff_datetime) - UNIX_TIMESTAMP(tpep_pickup_datetime)) / 3600 AS max_hours\n",
    "FROM yellow_data;\n",
    "\n",
    "\"\"\").show(4)"
   ]
  },
  {
   "cell_type": "markdown",
   "id": "c5783e98-c9ab-4cd6-8700-e5fe20c87cee",
   "metadata": {},
   "source": [
    "## Q6"
   ]
  },
  {
   "cell_type": "code",
   "execution_count": 19,
   "id": "8fd86fae-8ff2-41e4-bd92-c3ac3a79340a",
   "metadata": {},
   "outputs": [],
   "source": [
    "df_zones = spark.read \\\n",
    "        .option(\"header\", \"true\") \\\n",
    "        .csv(\"taxi_zone_lookup.csv\")"
   ]
  },
  {
   "cell_type": "code",
   "execution_count": 11,
   "id": "da04b496-c079-4d95-b12a-3c8f013fb06d",
   "metadata": {},
   "outputs": [],
   "source": [
    "df_join = df_yellow.join(df_zones, df_yellow.PULocationID == df_zones.LocationID, 'left')\n"
   ]
  },
  {
   "cell_type": "code",
   "execution_count": 16,
   "id": "44b36c99-eb2d-415f-a575-acdc13430260",
   "metadata": {},
   "outputs": [],
   "source": [
    "df_join.registerTempTable('df_join')"
   ]
  },
  {
   "cell_type": "code",
   "execution_count": 18,
   "id": "55220b80-b1f4-4570-9128-ad03a47fcda9",
   "metadata": {},
   "outputs": [
    {
     "name": "stderr",
     "output_type": "stream",
     "text": [
      "[Stage 12:===========================================>              (3 + 1) / 4]\r"
     ]
    },
    {
     "name": "stdout",
     "output_type": "stream",
     "text": [
      "+--------------------+---+\n",
      "|                Zone|cnt|\n",
      "+--------------------+---+\n",
      "|Governor's Island...|  1|\n",
      "+--------------------+---+\n",
      "only showing top 1 row\n",
      "\n"
     ]
    },
    {
     "name": "stderr",
     "output_type": "stream",
     "text": [
      "                                                                                \r"
     ]
    }
   ],
   "source": [
    "spark.sql(\"\"\"\n",
    "SELECT Zone, count(1) as cnt\n",
    "FROM df_join\n",
    "group by zone\n",
    "order by cnt\n",
    ";\n",
    "    \n",
    "\"\"\").show(1)"
   ]
  },
  {
   "cell_type": "code",
   "execution_count": null,
   "id": "9da8757f-195e-4953-a154-e7118406c774",
   "metadata": {},
   "outputs": [],
   "source": []
  }
 ],
 "metadata": {
  "kernelspec": {
   "display_name": "Python 3 (ipykernel)",
   "language": "python",
   "name": "python3"
  },
  "language_info": {
   "codemirror_mode": {
    "name": "ipython",
    "version": 3
   },
   "file_extension": ".py",
   "mimetype": "text/x-python",
   "name": "python",
   "nbconvert_exporter": "python",
   "pygments_lexer": "ipython3",
   "version": "3.12.2"
  }
 },
 "nbformat": 4,
 "nbformat_minor": 5
}
